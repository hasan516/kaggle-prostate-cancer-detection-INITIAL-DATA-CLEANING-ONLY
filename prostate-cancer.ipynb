{
 "cells": [
  {
   "cell_type": "code",
   "execution_count": 1,
   "id": "89f5ee05",
   "metadata": {
    "_cell_guid": "b1076dfc-b9ad-4769-8c92-a6c4dae69d19",
    "_uuid": "8f2839f25d086af736a60e9eeb907d3b93b6e0e5",
    "execution": {
     "iopub.execute_input": "2022-02-19T16:50:20.417009Z",
     "iopub.status.busy": "2022-02-19T16:50:20.416144Z",
     "iopub.status.idle": "2022-02-19T16:50:28.969426Z",
     "shell.execute_reply": "2022-02-19T16:50:28.968711Z",
     "shell.execute_reply.started": "2022-02-19T16:49:43.374907Z"
    },
    "papermill": {
     "duration": 8.587708,
     "end_time": "2022-02-19T16:50:28.969587",
     "exception": false,
     "start_time": "2022-02-19T16:50:20.381879",
     "status": "completed"
    },
    "tags": []
   },
   "outputs": [
    {
     "name": "stdout",
     "output_type": "stream",
     "text": [
      "Sample files: \n",
      "/kaggle/input/prostate-cancer-grade-assessment/sample_submission.csv\n",
      "/kaggle/input/prostate-cancer-grade-assessment/train.csv\n",
      "/kaggle/input/prostate-cancer-grade-assessment/test.csv\n",
      "/kaggle/input/prostate-cancer-grade-assessment/train_images/825c6002ff3ab0e041ebd7025ba41b4f.tiff\n",
      "/kaggle/input/prostate-cancer-grade-assessment/train_images/45d0ddf0aeb9b7f3c8e6c19c4405ac99.tiff\n",
      "/kaggle/input/prostate-cancer-grade-assessment/train_images/ae8f2e2b28764a604d1acc4bd7c8feb7.tiff\n",
      "/kaggle/input/prostate-cancer-grade-assessment/train_images/11a715facad7b619e3213ce126be1c77.tiff\n",
      "/kaggle/input/prostate-cancer-grade-assessment/train_images/4ecad8aefbc2ce6931baaee0cda6955b.tiff\n",
      "/kaggle/input/prostate-cancer-grade-assessment/train_label_masks/c699f572c40dbee492ca9ac0c1a0d9f7_mask.tiff\n",
      "/kaggle/input/prostate-cancer-grade-assessment/train_label_masks/78138d4fc0b8fceb04138cd44d4a4fdd_mask.tiff\n",
      "/kaggle/input/prostate-cancer-grade-assessment/train_label_masks/8bf80024b1a7f12ce52136af81a930df_mask.tiff\n",
      "/kaggle/input/prostate-cancer-grade-assessment/train_label_masks/b4f3528c1ab8e7ae2faac094cdbe06c3_mask.tiff\n",
      "/kaggle/input/prostate-cancer-grade-assessment/train_label_masks/1abb6882a5cba3d9c166736825bbe101_mask.tiff\n"
     ]
    }
   ],
   "source": [
    "import numpy as np # linear algebra\n",
    "import pandas as pd # data processing, CSV file I/O (e.g. pd.read_csv)\n",
    "\n",
    "#Since there are so many files, we will only print a sample of them: \n",
    "\n",
    "print(\"Sample files: \")\n",
    "import os\n",
    "for dirname, _, filenames in os.walk('/kaggle/input'):\n",
    "    for filename in filenames[0:5]:\n",
    "        print(os.path.join(dirname, filename))"
   ]
  },
  {
   "cell_type": "code",
   "execution_count": 2,
   "id": "7a696ba2",
   "metadata": {
    "execution": {
     "iopub.execute_input": "2022-02-19T16:50:29.024304Z",
     "iopub.status.busy": "2022-02-19T16:50:29.023614Z",
     "iopub.status.idle": "2022-02-19T16:50:29.064693Z",
     "shell.execute_reply": "2022-02-19T16:50:29.064148Z",
     "shell.execute_reply.started": "2022-02-14T22:59:20.19459Z"
    },
    "papermill": {
     "duration": 0.069612,
     "end_time": "2022-02-19T16:50:29.064830",
     "exception": false,
     "start_time": "2022-02-19T16:50:28.995218",
     "status": "completed"
    },
    "tags": []
   },
   "outputs": [],
   "source": [
    "train = pd.read_csv(\"/kaggle/input/prostate-cancer-grade-assessment/train.csv\")\n",
    "test = pd.read_csv(\"/kaggle/input/prostate-cancer-grade-assessment/test.csv\")\n",
    "sample = pd.read_csv(\"/kaggle/input/prostate-cancer-grade-assessment/sample_submission.csv\")"
   ]
  },
  {
   "cell_type": "code",
   "execution_count": 3,
   "id": "5d2fc5d9",
   "metadata": {
    "execution": {
     "iopub.execute_input": "2022-02-19T16:50:29.120223Z",
     "iopub.status.busy": "2022-02-19T16:50:29.119603Z",
     "iopub.status.idle": "2022-02-19T16:50:29.133318Z",
     "shell.execute_reply": "2022-02-19T16:50:29.133791Z",
     "shell.execute_reply.started": "2022-02-14T22:59:21.957177Z"
    },
    "papermill": {
     "duration": 0.045092,
     "end_time": "2022-02-19T16:50:29.133966",
     "exception": false,
     "start_time": "2022-02-19T16:50:29.088874",
     "status": "completed"
    },
    "tags": []
   },
   "outputs": [
    {
     "data": {
      "text/html": [
       "<div>\n",
       "<style scoped>\n",
       "    .dataframe tbody tr th:only-of-type {\n",
       "        vertical-align: middle;\n",
       "    }\n",
       "\n",
       "    .dataframe tbody tr th {\n",
       "        vertical-align: top;\n",
       "    }\n",
       "\n",
       "    .dataframe thead th {\n",
       "        text-align: right;\n",
       "    }\n",
       "</style>\n",
       "<table border=\"1\" class=\"dataframe\">\n",
       "  <thead>\n",
       "    <tr style=\"text-align: right;\">\n",
       "      <th></th>\n",
       "      <th>image_id</th>\n",
       "      <th>data_provider</th>\n",
       "      <th>isup_grade</th>\n",
       "      <th>gleason_score</th>\n",
       "    </tr>\n",
       "  </thead>\n",
       "  <tbody>\n",
       "    <tr>\n",
       "      <th>0</th>\n",
       "      <td>0005f7aaab2800f6170c399693a96917</td>\n",
       "      <td>karolinska</td>\n",
       "      <td>0</td>\n",
       "      <td>0+0</td>\n",
       "    </tr>\n",
       "    <tr>\n",
       "      <th>1</th>\n",
       "      <td>000920ad0b612851f8e01bcc880d9b3d</td>\n",
       "      <td>karolinska</td>\n",
       "      <td>0</td>\n",
       "      <td>0+0</td>\n",
       "    </tr>\n",
       "    <tr>\n",
       "      <th>2</th>\n",
       "      <td>0018ae58b01bdadc8e347995b69f99aa</td>\n",
       "      <td>radboud</td>\n",
       "      <td>4</td>\n",
       "      <td>4+4</td>\n",
       "    </tr>\n",
       "    <tr>\n",
       "      <th>3</th>\n",
       "      <td>001c62abd11fa4b57bf7a6c603a11bb9</td>\n",
       "      <td>karolinska</td>\n",
       "      <td>4</td>\n",
       "      <td>4+4</td>\n",
       "    </tr>\n",
       "    <tr>\n",
       "      <th>4</th>\n",
       "      <td>001d865e65ef5d2579c190a0e0350d8f</td>\n",
       "      <td>karolinska</td>\n",
       "      <td>0</td>\n",
       "      <td>0+0</td>\n",
       "    </tr>\n",
       "  </tbody>\n",
       "</table>\n",
       "</div>"
      ],
      "text/plain": [
       "                           image_id data_provider  isup_grade gleason_score\n",
       "0  0005f7aaab2800f6170c399693a96917    karolinska           0           0+0\n",
       "1  000920ad0b612851f8e01bcc880d9b3d    karolinska           0           0+0\n",
       "2  0018ae58b01bdadc8e347995b69f99aa       radboud           4           4+4\n",
       "3  001c62abd11fa4b57bf7a6c603a11bb9    karolinska           4           4+4\n",
       "4  001d865e65ef5d2579c190a0e0350d8f    karolinska           0           0+0"
      ]
     },
     "execution_count": 3,
     "metadata": {},
     "output_type": "execute_result"
    }
   ],
   "source": [
    "train.head()"
   ]
  },
  {
   "cell_type": "code",
   "execution_count": 4,
   "id": "5f6add14",
   "metadata": {
    "execution": {
     "iopub.execute_input": "2022-02-19T16:50:29.186955Z",
     "iopub.status.busy": "2022-02-19T16:50:29.186270Z",
     "iopub.status.idle": "2022-02-19T16:50:35.215937Z",
     "shell.execute_reply": "2022-02-19T16:50:35.216384Z",
     "shell.execute_reply.started": "2022-02-14T22:59:24.853397Z"
    },
    "papermill": {
     "duration": 6.058338,
     "end_time": "2022-02-19T16:50:35.216558",
     "exception": false,
     "start_time": "2022-02-19T16:50:29.158220",
     "status": "completed"
    },
    "tags": []
   },
   "outputs": [],
   "source": [
    "import skimage.io as skio\n",
    "\n",
    "im0 = skio.imread(\"/kaggle/input/prostate-cancer-grade-assessment/train_images/0005f7aaab2800f6170c399693a96917.tiff\")"
   ]
  },
  {
   "cell_type": "code",
   "execution_count": 5,
   "id": "ad50f511",
   "metadata": {
    "execution": {
     "iopub.execute_input": "2022-02-19T16:50:35.266695Z",
     "iopub.status.busy": "2022-02-19T16:50:35.265896Z",
     "iopub.status.idle": "2022-02-19T16:50:35.269615Z",
     "shell.execute_reply": "2022-02-19T16:50:35.270193Z",
     "shell.execute_reply.started": "2022-02-14T22:59:32.180634Z"
    },
    "papermill": {
     "duration": 0.031152,
     "end_time": "2022-02-19T16:50:35.270364",
     "exception": false,
     "start_time": "2022-02-19T16:50:35.239212",
     "status": "completed"
    },
    "scrolled": true,
    "tags": []
   },
   "outputs": [
    {
     "name": "stdout",
     "output_type": "stream",
     "text": [
      "[[[255 255 255]\n",
      "  [255 255 255]\n",
      "  [255 255 255]\n",
      "  ...\n",
      "  [255 255 255]\n",
      "  [255 255 255]\n",
      "  [255 255 255]]\n",
      "\n",
      " [[255 255 255]\n",
      "  [255 255 255]\n",
      "  [255 255 255]\n",
      "  ...\n",
      "  [255 255 255]\n",
      "  [255 255 255]\n",
      "  [255 255 255]]\n",
      "\n",
      " [[255 255 255]\n",
      "  [255 255 255]\n",
      "  [255 255 255]\n",
      "  ...\n",
      "  [255 255 255]\n",
      "  [255 255 255]\n",
      "  [255 255 255]]\n",
      "\n",
      " ...\n",
      "\n",
      " [[255 255 255]\n",
      "  [255 255 255]\n",
      "  [255 255 255]\n",
      "  ...\n",
      "  [255 255 255]\n",
      "  [255 255 255]\n",
      "  [255 255 255]]\n",
      "\n",
      " [[255 255 255]\n",
      "  [255 255 255]\n",
      "  [255 255 255]\n",
      "  ...\n",
      "  [255 255 255]\n",
      "  [255 255 255]\n",
      "  [255 255 255]]\n",
      "\n",
      " [[255 255 255]\n",
      "  [255 255 255]\n",
      "  [255 255 255]\n",
      "  ...\n",
      "  [255 255 255]\n",
      "  [255 255 255]\n",
      "  [255 255 255]]]\n"
     ]
    }
   ],
   "source": [
    "print(im0)"
   ]
  },
  {
   "cell_type": "code",
   "execution_count": 6,
   "id": "77c325a8",
   "metadata": {
    "execution": {
     "iopub.execute_input": "2022-02-19T16:50:35.323202Z",
     "iopub.status.busy": "2022-02-19T16:50:35.322578Z",
     "iopub.status.idle": "2022-02-19T16:50:35.325158Z",
     "shell.execute_reply": "2022-02-19T16:50:35.325555Z",
     "shell.execute_reply.started": "2022-02-14T22:59:35.531634Z"
    },
    "papermill": {
     "duration": 0.031967,
     "end_time": "2022-02-19T16:50:35.325677",
     "exception": false,
     "start_time": "2022-02-19T16:50:35.293710",
     "status": "completed"
    },
    "tags": []
   },
   "outputs": [
    {
     "data": {
      "text/plain": [
       "(29440, 27648, 3)"
      ]
     },
     "execution_count": 6,
     "metadata": {},
     "output_type": "execute_result"
    }
   ],
   "source": [
    "im0.shape"
   ]
  },
  {
   "cell_type": "code",
   "execution_count": 7,
   "id": "29545931",
   "metadata": {
    "execution": {
     "iopub.execute_input": "2022-02-19T16:50:35.379157Z",
     "iopub.status.busy": "2022-02-19T16:50:35.375707Z",
     "iopub.status.idle": "2022-02-19T16:51:17.775343Z",
     "shell.execute_reply": "2022-02-19T16:51:17.775793Z",
     "shell.execute_reply.started": "2022-02-14T22:59:38.466841Z"
    },
    "papermill": {
     "duration": 42.427288,
     "end_time": "2022-02-19T16:51:17.775959",
     "exception": false,
     "start_time": "2022-02-19T16:50:35.348671",
     "status": "completed"
    },
    "tags": []
   },
   "outputs": [
    {
     "data": {
      "image/png": "[encoded data removed]",
      "text/plain": [
       "<Figure size 432x288 with 1 Axes>"
      ]
     },
     "metadata": {
      "needs_background": "light"
     },
     "output_type": "display_data"
    }
   ],
   "source": [
    "import matplotlib.pyplot as plt\n",
    "plt.imshow(im0)\n",
    "plt.show()"
   ]
  },
  {
   "cell_type": "code",
   "execution_count": 8,
   "id": "00e5a8e6",
   "metadata": {
    "execution": {
     "iopub.execute_input": "2022-02-19T16:51:17.836759Z",
     "iopub.status.busy": "2022-02-19T16:51:17.835819Z",
     "iopub.status.idle": "2022-02-19T16:51:17.837788Z",
     "shell.execute_reply": "2022-02-19T16:51:17.838296Z",
     "shell.execute_reply.started": "2022-02-14T23:00:25.560667Z"
    },
    "papermill": {
     "duration": 0.036247,
     "end_time": "2022-02-19T16:51:17.838444",
     "exception": false,
     "start_time": "2022-02-19T16:51:17.802197",
     "status": "completed"
    },
    "tags": []
   },
   "outputs": [],
   "source": [
    "#Let's have a look at the first few to get an idea of what these images look like: \n",
    "\n",
    "def image(n): \n",
    "    \"\"\"\n",
    "    Given integer n, prints first n images in the train images file. \n",
    "    \"\"\"\n",
    "    for dirname, _, filenames in os.walk('/kaggle/input/prostate-cancer-grade-assessment/train_images'):\n",
    "        for filename in filenames[0:n+1]:\n",
    "            path = os.path.join(dirname, filename)\n",
    "            im = skio.imread(path)\n",
    "            plt.figure()\n",
    "            plt.imshow(im)\n",
    "    plt.show()"
   ]
  },
  {
   "cell_type": "code",
   "execution_count": 9,
   "id": "4698300c",
   "metadata": {
    "execution": {
     "iopub.execute_input": "2022-02-19T16:51:17.896742Z",
     "iopub.status.busy": "2022-02-19T16:51:17.894728Z",
     "iopub.status.idle": "2022-02-19T16:51:17.900112Z",
     "shell.execute_reply": "2022-02-19T16:51:17.899595Z",
     "shell.execute_reply.started": "2022-02-14T23:00:28.311541Z"
    },
    "papermill": {
     "duration": 0.035284,
     "end_time": "2022-02-19T16:51:17.900238",
     "exception": false,
     "start_time": "2022-02-19T16:51:17.864954",
     "status": "completed"
    },
    "tags": []
   },
   "outputs": [],
   "source": [
    "#image(2)"
   ]
  },
  {
   "cell_type": "code",
   "execution_count": 10,
   "id": "ca752c6c",
   "metadata": {
    "execution": {
     "iopub.execute_input": "2022-02-19T16:51:17.958163Z",
     "iopub.status.busy": "2022-02-19T16:51:17.957487Z",
     "iopub.status.idle": "2022-02-19T16:51:17.961635Z",
     "shell.execute_reply": "2022-02-19T16:51:17.962157Z",
     "shell.execute_reply.started": "2022-02-14T23:00:28.525746Z"
    },
    "papermill": {
     "duration": 0.035768,
     "end_time": "2022-02-19T16:51:17.962303",
     "exception": false,
     "start_time": "2022-02-19T16:51:17.926535",
     "status": "completed"
    },
    "tags": []
   },
   "outputs": [
    {
     "data": {
      "text/plain": [
       "Index(['image_id', 'data_provider', 'isup_grade', 'gleason_score'], dtype='object')"
      ]
     },
     "execution_count": 10,
     "metadata": {},
     "output_type": "execute_result"
    }
   ],
   "source": [
    "train.columns"
   ]
  },
  {
   "cell_type": "code",
   "execution_count": 11,
   "id": "d440bdee",
   "metadata": {
    "execution": {
     "iopub.execute_input": "2022-02-19T16:51:18.025020Z",
     "iopub.status.busy": "2022-02-19T16:51:18.024388Z",
     "iopub.status.idle": "2022-02-19T16:51:18.043933Z",
     "shell.execute_reply": "2022-02-19T16:51:18.043414Z",
     "shell.execute_reply.started": "2022-02-14T23:00:30.750777Z"
    },
    "papermill": {
     "duration": 0.054862,
     "end_time": "2022-02-19T16:51:18.044059",
     "exception": false,
     "start_time": "2022-02-19T16:51:17.989197",
     "status": "completed"
    },
    "tags": []
   },
   "outputs": [
    {
     "name": "stdout",
     "output_type": "stream",
     "text": [
      "image_id: 0005f7aaab2800f6170c399693a96917    1\n",
      "abfa36e4517733d5fe37f639328a736c    1\n",
      "abfe06f56b989f9e1d6034b12bb885d8    1\n",
      "ac07fd6531d7536124ceab1990d5227d    1\n",
      "ac0d8bc88d9ec900be978a70b90e425b    1\n",
      "                                   ..\n",
      "5892b3113aa9e0decd5dc15c74c7b1a4    1\n",
      "5895a94c14efb95f4a0369383f64f4ac    1\n",
      "589c60dd4940000360acc551fd112705    1\n",
      "589ce42577588f51fa6d8de876b55dbc    1\n",
      "ffe9bcababc858e04840669e788065a1    1\n",
      "Name: image_id, Length: 10616, dtype: int64 \n",
      "\n",
      "data_provider: karolinska    5456\n",
      "radboud       5160\n",
      "Name: data_provider, dtype: int64 \n",
      "\n",
      "isup_grade: 0    2892\n",
      "1    2666\n",
      "2    1343\n",
      "4    1249\n",
      "3    1242\n",
      "5    1224\n",
      "Name: isup_grade, dtype: int64 \n",
      "\n",
      "gleason_score: 3+3         2666\n",
      "0+0         1925\n",
      "3+4         1342\n",
      "4+3         1243\n",
      "4+4         1126\n",
      "negative     967\n",
      "4+5          849\n",
      "5+4          248\n",
      "5+5          127\n",
      "3+5           80\n",
      "5+3           43\n",
      "Name: gleason_score, dtype: int64 \n",
      "\n"
     ]
    }
   ],
   "source": [
    "#Let's look at how many unique values we have in each column: \n",
    "\n",
    "for col in train.columns:\n",
    "    print(f\"{col}: {train[col].value_counts()} \\n\")"
   ]
  },
  {
   "cell_type": "code",
   "execution_count": 12,
   "id": "8225bca6",
   "metadata": {
    "execution": {
     "iopub.execute_input": "2022-02-19T16:51:18.111030Z",
     "iopub.status.busy": "2022-02-19T16:51:18.110184Z",
     "iopub.status.idle": "2022-02-19T16:51:18.114649Z",
     "shell.execute_reply": "2022-02-19T16:51:18.114141Z",
     "shell.execute_reply.started": "2022-02-14T23:00:31.185498Z"
    },
    "papermill": {
     "duration": 0.043272,
     "end_time": "2022-02-19T16:51:18.114768",
     "exception": false,
     "start_time": "2022-02-19T16:51:18.071496",
     "status": "completed"
    },
    "tags": []
   },
   "outputs": [
    {
     "data": {
      "text/plain": [
       "0    967\n",
       "Name: isup_grade, dtype: int64"
      ]
     },
     "execution_count": 12,
     "metadata": {},
     "output_type": "execute_result"
    }
   ],
   "source": [
    "#Let's look at these \"negative\" values for Gleason Score:\n",
    "\n",
    "train[train[\"gleason_score\"]==\"negative\"][\"isup_grade\"].value_counts()"
   ]
  },
  {
   "cell_type": "code",
   "execution_count": 13,
   "id": "893ffd51",
   "metadata": {
    "execution": {
     "iopub.execute_input": "2022-02-19T16:51:18.179755Z",
     "iopub.status.busy": "2022-02-19T16:51:18.179020Z",
     "iopub.status.idle": "2022-02-19T16:51:18.181808Z",
     "shell.execute_reply": "2022-02-19T16:51:18.182290Z",
     "shell.execute_reply.started": "2022-02-14T23:00:36.234498Z"
    },
    "papermill": {
     "duration": 0.039461,
     "end_time": "2022-02-19T16:51:18.182448",
     "exception": false,
     "start_time": "2022-02-19T16:51:18.142987",
     "status": "completed"
    },
    "tags": []
   },
   "outputs": [],
   "source": [
    "#Seems like these should all be 0+0, so let's change them: \n",
    "\n",
    "train[\"gleason_score\"] = train[\"gleason_score\"].apply(lambda x: \"0+0\" if x==\"negative\" else x)"
   ]
  },
  {
   "cell_type": "code",
   "execution_count": 14,
   "id": "eeb34d6f",
   "metadata": {
    "execution": {
     "iopub.execute_input": "2022-02-19T16:51:18.244712Z",
     "iopub.status.busy": "2022-02-19T16:51:18.244036Z",
     "iopub.status.idle": "2022-02-19T16:51:18.246749Z",
     "shell.execute_reply": "2022-02-19T16:51:18.247209Z",
     "shell.execute_reply.started": "2022-02-14T23:00:37.055328Z"
    },
    "papermill": {
     "duration": 0.037274,
     "end_time": "2022-02-19T16:51:18.247348",
     "exception": false,
     "start_time": "2022-02-19T16:51:18.210074",
     "status": "completed"
    },
    "tags": []
   },
   "outputs": [
    {
     "data": {
      "text/plain": [
       "Series([], Name: isup_grade, dtype: int64)"
      ]
     },
     "execution_count": 14,
     "metadata": {},
     "output_type": "execute_result"
    }
   ],
   "source": [
    "#Check that it worked: \n",
    "\n",
    "train[train[\"gleason_score\"]==\"negative\"][\"isup_grade\"].value_counts()"
   ]
  },
  {
   "cell_type": "code",
   "execution_count": 15,
   "id": "f53f13d2",
   "metadata": {
    "execution": {
     "iopub.execute_input": "2022-02-19T16:51:18.307802Z",
     "iopub.status.busy": "2022-02-19T16:51:18.307034Z",
     "iopub.status.idle": "2022-02-19T16:51:18.347582Z",
     "shell.execute_reply": "2022-02-19T16:51:18.348143Z",
     "shell.execute_reply.started": "2022-02-14T23:00:37.483693Z"
    },
    "papermill": {
     "duration": 0.074559,
     "end_time": "2022-02-19T16:51:18.348291",
     "exception": false,
     "start_time": "2022-02-19T16:51:18.273732",
     "status": "completed"
    },
    "tags": []
   },
   "outputs": [
    {
     "name": "stdout",
     "output_type": "stream",
     "text": [
      "0+0 \n",
      " 0    2892\n",
      "Name: isup_grade, dtype: int64\n",
      "4+4 \n",
      " 4    1126\n",
      "Name: isup_grade, dtype: int64\n",
      "3+3 \n",
      " 1    2666\n",
      "Name: isup_grade, dtype: int64\n",
      "4+3 \n",
      " 3    1242\n",
      "2       1\n",
      "Name: isup_grade, dtype: int64\n",
      "4+5 \n",
      " 5    849\n",
      "Name: isup_grade, dtype: int64\n",
      "3+4 \n",
      " 2    1342\n",
      "Name: isup_grade, dtype: int64\n",
      "5+4 \n",
      " 5    248\n",
      "Name: isup_grade, dtype: int64\n",
      "5+5 \n",
      " 5    127\n",
      "Name: isup_grade, dtype: int64\n",
      "5+3 \n",
      " 4    43\n",
      "Name: isup_grade, dtype: int64\n",
      "3+5 \n",
      " 4    80\n",
      "Name: isup_grade, dtype: int64\n"
     ]
    }
   ],
   "source": [
    "#Let's check to see if there are any errors in the ISUP grade assignment: \n",
    "\n",
    "for score in train[\"gleason_score\"].unique():\n",
    "    print(score,\"\\n\", train[train[\"gleason_score\"]==score][\"isup_grade\"].value_counts())\n",
    "    "
   ]
  },
  {
   "cell_type": "code",
   "execution_count": 16,
   "id": "4b563099",
   "metadata": {
    "execution": {
     "iopub.execute_input": "2022-02-19T16:51:18.412718Z",
     "iopub.status.busy": "2022-02-19T16:51:18.411990Z",
     "iopub.status.idle": "2022-02-19T16:51:18.415011Z",
     "shell.execute_reply": "2022-02-19T16:51:18.414527Z",
     "shell.execute_reply.started": "2022-02-14T23:00:39.554295Z"
    },
    "papermill": {
     "duration": 0.03807,
     "end_time": "2022-02-19T16:51:18.415132",
     "exception": false,
     "start_time": "2022-02-19T16:51:18.377062",
     "status": "completed"
    },
    "tags": []
   },
   "outputs": [],
   "source": [
    "#We can see that 4+3 has a single incorrect assignement corresponding to ISUP grade 2. Let's fix this: \n",
    "\n",
    "train[(train[\"gleason_score\"]==\"4+3\") & (train[\"isup_grade\"]==2)]  #index 7273\n",
    "\n",
    "train.at[7273,\"isup_grade\"]=3"
   ]
  },
  {
   "cell_type": "code",
   "execution_count": 17,
   "id": "c68918e8",
   "metadata": {
    "execution": {
     "iopub.execute_input": "2022-02-19T16:51:18.478467Z",
     "iopub.status.busy": "2022-02-19T16:51:18.474482Z",
     "iopub.status.idle": "2022-02-19T16:51:18.509589Z",
     "shell.execute_reply": "2022-02-19T16:51:18.510157Z",
     "shell.execute_reply.started": "2022-02-14T23:00:39.716982Z"
    },
    "papermill": {
     "duration": 0.068895,
     "end_time": "2022-02-19T16:51:18.510319",
     "exception": false,
     "start_time": "2022-02-19T16:51:18.441424",
     "status": "completed"
    },
    "tags": []
   },
   "outputs": [
    {
     "name": "stdout",
     "output_type": "stream",
     "text": [
      "0+0 \n",
      " 0    2892\n",
      "Name: isup_grade, dtype: int64\n",
      "4+4 \n",
      " 4    1126\n",
      "Name: isup_grade, dtype: int64\n",
      "3+3 \n",
      " 1    2666\n",
      "Name: isup_grade, dtype: int64\n",
      "4+3 \n",
      " 3    1243\n",
      "Name: isup_grade, dtype: int64\n",
      "4+5 \n",
      " 5    849\n",
      "Name: isup_grade, dtype: int64\n",
      "3+4 \n",
      " 2    1342\n",
      "Name: isup_grade, dtype: int64\n",
      "5+4 \n",
      " 5    248\n",
      "Name: isup_grade, dtype: int64\n",
      "5+5 \n",
      " 5    127\n",
      "Name: isup_grade, dtype: int64\n",
      "5+3 \n",
      " 4    43\n",
      "Name: isup_grade, dtype: int64\n",
      "3+5 \n",
      " 4    80\n",
      "Name: isup_grade, dtype: int64\n"
     ]
    }
   ],
   "source": [
    "#Check\n",
    "\n",
    "for score in train[\"gleason_score\"].unique():\n",
    "    print(score,\"\\n\", train[train[\"gleason_score\"]==score][\"isup_grade\"].value_counts())\n",
    "    "
   ]
  },
  {
   "cell_type": "code",
   "execution_count": 18,
   "id": "c67de6ea",
   "metadata": {
    "execution": {
     "iopub.execute_input": "2022-02-19T16:51:18.566666Z",
     "iopub.status.busy": "2022-02-19T16:51:18.565936Z",
     "iopub.status.idle": "2022-02-19T16:51:18.568563Z",
     "shell.execute_reply": "2022-02-19T16:51:18.568115Z",
     "shell.execute_reply.started": "2022-02-14T23:00:42.341836Z"
    },
    "papermill": {
     "duration": 0.032245,
     "end_time": "2022-02-19T16:51:18.568670",
     "exception": false,
     "start_time": "2022-02-19T16:51:18.536425",
     "status": "completed"
    },
    "tags": []
   },
   "outputs": [],
   "source": [
    "#Everything seems to be in order, so let's explore the data..."
   ]
  },
  {
   "cell_type": "code",
   "execution_count": 19,
   "id": "89dc7484",
   "metadata": {
    "execution": {
     "iopub.execute_input": "2022-02-19T16:51:18.623800Z",
     "iopub.status.busy": "2022-02-19T16:51:18.623123Z",
     "iopub.status.idle": "2022-02-19T16:51:19.243481Z",
     "shell.execute_reply": "2022-02-19T16:51:19.243004Z",
     "shell.execute_reply.started": "2022-02-14T23:00:42.536717Z"
    },
    "papermill": {
     "duration": 0.649094,
     "end_time": "2022-02-19T16:51:19.243615",
     "exception": false,
     "start_time": "2022-02-19T16:51:18.594521",
     "status": "completed"
    },
    "tags": []
   },
   "outputs": [],
   "source": [
    "import seaborn as sns"
   ]
  },
  {
   "cell_type": "code",
   "execution_count": 20,
   "id": "05253e59",
   "metadata": {
    "execution": {
     "iopub.execute_input": "2022-02-19T16:51:19.329542Z",
     "iopub.status.busy": "2022-02-19T16:51:19.307546Z",
     "iopub.status.idle": "2022-02-19T16:51:19.595080Z",
     "shell.execute_reply": "2022-02-19T16:51:19.594623Z",
     "shell.execute_reply.started": "2022-02-14T23:00:43.122201Z"
    },
    "papermill": {
     "duration": 0.32554,
     "end_time": "2022-02-19T16:51:19.595212",
     "exception": false,
     "start_time": "2022-02-19T16:51:19.269672",
     "status": "completed"
    },
    "tags": []
   },
   "outputs": [
    {
     "data": {
      "image/png": "[encoded data removed]",
      "text/plain": [
       "<Figure size 432x288 with 1 Axes>"
      ]
     },
     "metadata": {
      "needs_background": "light"
     },
     "output_type": "display_data"
    }
   ],
   "source": [
    "isup_plot = sns.histplot(train[\"isup_grade\"])\n",
    "\n",
    "#The following will show the percentages above each bar in the plot (code found in a Kaggle notebook):\n",
    "for p in isup_plot.patches:\n",
    "    height = p.get_height()\n",
    "    isup_plot.text(p.get_x()+p.get_width()/2.,\n",
    "                height + 3,\n",
    "                '{:1.2f}%'.format(100*height/10616),\n",
    "                ha=\"center\")"
   ]
  },
  {
   "cell_type": "code",
   "execution_count": 21,
   "id": "32c57ef7",
   "metadata": {
    "execution": {
     "iopub.execute_input": "2022-02-19T16:51:19.680421Z",
     "iopub.status.busy": "2022-02-19T16:51:19.679503Z",
     "iopub.status.idle": "2022-02-19T16:51:19.918478Z",
     "shell.execute_reply": "2022-02-19T16:51:19.919151Z",
     "shell.execute_reply.started": "2022-02-14T23:00:45.408778Z"
    },
    "papermill": {
     "duration": 0.296753,
     "end_time": "2022-02-19T16:51:19.919305",
     "exception": false,
     "start_time": "2022-02-19T16:51:19.622552",
     "status": "completed"
    },
    "tags": []
   },
   "outputs": [
    {
     "data": {
      "image/png": "[encoded data removed]",
      "text/plain": [
       "<Figure size 432x288 with 1 Axes>"
      ]
     },
     "metadata": {
      "needs_background": "light"
     },
     "output_type": "display_data"
    }
   ],
   "source": [
    "gleason_plot = sns.histplot(train[\"gleason_score\"])\n",
    "\n",
    "for p in gleason_plot.patches:\n",
    "    height = p.get_height()\n",
    "    gleason_plot.text(p.get_x()+p.get_width()/2.,\n",
    "                height + 3,\n",
    "                '{:1.2f}%'.format(100*height/10616),\n",
    "                ha=\"center\")"
   ]
  },
  {
   "cell_type": "code",
   "execution_count": 22,
   "id": "68df085b",
   "metadata": {
    "execution": {
     "iopub.execute_input": "2022-02-19T16:51:19.979208Z",
     "iopub.status.busy": "2022-02-19T16:51:19.978417Z",
     "iopub.status.idle": "2022-02-19T16:51:19.981720Z",
     "shell.execute_reply": "2022-02-19T16:51:19.981335Z",
     "shell.execute_reply.started": "2022-02-14T23:02:09.300192Z"
    },
    "papermill": {
     "duration": 0.034621,
     "end_time": "2022-02-19T16:51:19.981830",
     "exception": false,
     "start_time": "2022-02-19T16:51:19.947209",
     "status": "completed"
    },
    "tags": []
   },
   "outputs": [
    {
     "data": {
      "text/plain": [
       "'\\nNot enough memory, but we would\\'ve used the following to create a column of image data to add to the training data, so \\nthat we could subsequently use this data to train a model. \\n\\nimage = []\\nfor id in train[\"image_id\"]:\\n    img_path = \"/kaggle/input/prostate-cancer-grade-assessment/train_images/\" + id + \".tiff\"\\n    img = skio.imread(img_path).flatten()\\n    image.append(img)'"
      ]
     },
     "execution_count": 22,
     "metadata": {},
     "output_type": "execute_result"
    }
   ],
   "source": [
    "\"\"\"\n",
    "Not enough memory, but we would've used the following to create a column of image data to add to the training data, so \n",
    "that we could subsequently use this data to train a model. \n",
    "\n",
    "image = []\n",
    "for id in train[\"image_id\"]:\n",
    "    img_path = \"/kaggle/input/prostate-cancer-grade-assessment/train_images/\" + id + \".tiff\"\n",
    "    img = skio.imread(img_path).flatten()\n",
    "    image.append(img)\"\"\""
   ]
  },
  {
   "cell_type": "code",
   "execution_count": 23,
   "id": "b477b15a",
   "metadata": {
    "execution": {
     "iopub.execute_input": "2022-02-19T16:51:20.042421Z",
     "iopub.status.busy": "2022-02-19T16:51:20.041817Z",
     "iopub.status.idle": "2022-02-19T16:51:20.044443Z",
     "shell.execute_reply": "2022-02-19T16:51:20.044844Z",
     "shell.execute_reply.started": "2022-02-14T23:02:11.198058Z"
    },
    "papermill": {
     "duration": 0.035612,
     "end_time": "2022-02-19T16:51:20.044996",
     "exception": false,
     "start_time": "2022-02-19T16:51:20.009384",
     "status": "completed"
    },
    "tags": []
   },
   "outputs": [
    {
     "data": {
      "text/plain": [
       "'\\nNot enough memory to continue, but further steps would be: \\n\\n- First try to train a NN model just using these images (i.e. without the masks) and see how well it does. The model itself\\nwould have flatten and convolution layers as well as multiple dense layers. Before this, we would also do some data augmentation\\nto reduce overfitting in the training stage. \\n- Test different parameter values using cross-validation (or some other more appropriate method). \\n- Look at the mask data, clean, augment, etc., then include this in the training of a new model and compare with model without\\nmasks. \\n\\n'"
      ]
     },
     "execution_count": 23,
     "metadata": {},
     "output_type": "execute_result"
    }
   ],
   "source": [
    "\"\"\"\n",
    "Not enough memory to continue, but further steps would be: \n",
    "\n",
    "- First try to train a NN model just using these images (i.e. without the masks) and see how well it does. The model itself\n",
    "would have flatten and convolution layers as well as multiple dense layers. Before this, we would also do some data augmentation\n",
    "to reduce overfitting in the training stage. \n",
    "- Test different parameter values using cross-validation (or some other more appropriate method). \n",
    "- Look at the mask data, clean, augment, etc., then include this in the training of a new model and compare with model without\n",
    "masks. \n",
    "\n",
    "\"\"\""
   ]
  },
  {
   "cell_type": "code",
   "execution_count": null,
   "id": "742436fe",
   "metadata": {
    "papermill": {
     "duration": 0.02811,
     "end_time": "2022-02-19T16:51:20.101521",
     "exception": false,
     "start_time": "2022-02-19T16:51:20.073411",
     "status": "completed"
    },
    "tags": []
   },
   "outputs": [],
   "source": []
  }
 ],
 "metadata": {
  "kernelspec": {
   "display_name": "Python 3",
   "language": "python",
   "name": "python3"
  },
  "language_info": {
   "codemirror_mode": {
    "name": "ipython",
    "version": 3
   },
   "file_extension": ".py",
   "mimetype": "text/x-python",
   "name": "python",
   "nbconvert_exporter": "python",
   "pygments_lexer": "ipython3",
   "version": "3.7.12"
  },
  "papermill": {
   "default_parameters": {},
   "duration": 69.094962,
   "end_time": "2022-02-19T16:51:20.840650",
   "environment_variables": {},
   "exception": null,
   "input_path": "__notebook__.ipynb",
   "output_path": "__notebook__.ipynb",
   "parameters": {},
   "start_time": "2022-02-19T16:50:11.745688",
   "version": "2.3.3"
  }
 },
 "nbformat": 4,
 "nbformat_minor": 5
}
